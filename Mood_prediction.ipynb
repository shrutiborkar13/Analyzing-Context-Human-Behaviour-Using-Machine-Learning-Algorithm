{
 "cells": [
  {
   "cell_type": "markdown",
   "id": "67f15582",
   "metadata": {},
   "source": [
    "# Mood Mapping"
   ]
  },
  {
   "cell_type": "code",
   "execution_count": 6,
   "id": "f3006288",
   "metadata": {},
   "outputs": [],
   "source": [
    "mood={'Angry':[\"Angry\",\"Irritable\"],'Disgusted':[\"Disgusted\",\"Ashamed\",\"Frustated\"],\"Sad\":['Sad','Guilty','Lonely','IN_EMOTIONAL_PAIN','IN_PHYSICAL_PAIN','PHYSICALLY_SICK','Bad', 'Bored', 'Stressed', 'Tired', 'HUNGRY', 'SLEEPY', 'SERIOUS'],'Happy':['Happy','Proud','Active','Calm','Determined','Dreamy','Energetic','High','IN_LOVE','INSPIRED','ROMANTIC','SEXY','STRONG','NOSTALGIC','UNTROUBLED','NORMAL'],'Surpised':[\"Surprised\",'Excited','ALERT','AMUSED','CRAZY','ENTHUSIASTIC','INTERESTED'],'Fearful':['Fearful','Scared','AFRAID','DISTRESSED','HOSTILE','JITTERY','NERVOUS','WORRIED','ATTENTIVE']}"
   ]
  },
  {
   "cell_type": "code",
   "execution_count": 9,
   "id": "0cd5eaad",
   "metadata": {},
   "outputs": [
    {
     "name": "stdout",
     "output_type": "stream",
     "text": [
      "*************************************************************************************************************************\n",
      "Angry:\n",
      "['Angry', 'Irritable']\n",
      "*************************************************************************************************************************\n",
      "Disgusted:\n",
      "['Disgusted', 'Ashamed', 'Frustated']\n",
      "*************************************************************************************************************************\n",
      "Sad:\n",
      "['Sad', 'Guilty', 'Lonely', 'IN_EMOTIONAL_PAIN', 'IN_PHYSICAL_PAIN', 'PHYSICALLY_SICK', 'Bad', 'Bored', 'Stressed', 'Tired', 'HUNGRY', 'SLEEPY', 'SERIOUS']\n",
      "*************************************************************************************************************************\n",
      "Happy:\n",
      "['Happy', 'Proud', 'Active', 'Calm', 'Determined', 'Dreamy', 'Energetic', 'High', 'IN_LOVE', 'INSPIRED', 'ROMANTIC', 'SEXY', 'STRONG', 'NOSTALGIC', 'UNTROUBLED', 'NORMAL']\n",
      "*************************************************************************************************************************\n",
      "Surpised:\n",
      "['Surprised', 'Excited', 'ALERT', 'AMUSED', 'CRAZY', 'ENTHUSIASTIC', 'INTERESTED']\n",
      "*************************************************************************************************************************\n",
      "Fearful:\n",
      "['Fearful', 'Scared', 'AFRAID', 'DISTRESSED', 'HOSTILE', 'JITTERY', 'NERVOUS', 'WORRIED', 'ATTENTIVE']\n"
     ]
    }
   ],
   "source": [
    "for k,v in mood.items():\n",
    "    print(\"*************************************************************************************************************************\")\n",
    "    print(k+\":\")\n",
    "    print(v)"
   ]
  },
  {
   "cell_type": "code",
   "execution_count": null,
   "id": "7b40dea6",
   "metadata": {},
   "outputs": [],
   "source": [
    "for k,v in mood.items():\n",
    "    v"
   ]
  }
 ],
 "metadata": {
  "kernelspec": {
   "display_name": "Python 3 (ipykernel)",
   "language": "python",
   "name": "python3"
  },
  "language_info": {
   "codemirror_mode": {
    "name": "ipython",
    "version": 3
   },
   "file_extension": ".py",
   "mimetype": "text/x-python",
   "name": "python",
   "nbconvert_exporter": "python",
   "pygments_lexer": "ipython3",
   "version": "3.11.2"
  }
 },
 "nbformat": 4,
 "nbformat_minor": 5
}
