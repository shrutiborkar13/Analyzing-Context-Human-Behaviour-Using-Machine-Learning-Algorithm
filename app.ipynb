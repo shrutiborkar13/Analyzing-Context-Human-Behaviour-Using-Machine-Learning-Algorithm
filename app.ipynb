{
 "cells": [
  {
   "cell_type": "code",
   "execution_count": 5,
   "id": "3b8c84ff",
   "metadata": {},
   "outputs": [
    {
     "name": "stderr",
     "output_type": "stream",
     "text": [
      "2023-09-02 13:23:33.783 \n",
      "  \u001b[33m\u001b[1mWarning:\u001b[0m to view this Streamlit app on a browser, run it with the following\n",
      "  command:\n",
      "\n",
      "    streamlit run C:\\Users\\Adwait\\Desktop\\Behavior recognition\\myenv\\Lib\\site-packages\\ipykernel_launcher.py [ARGUMENTS]\n"
     ]
    }
   ],
   "source": [
    "# Import required libraries\n",
    "import streamlit as st\n",
    "import pandas as pd\n",
    "from vaderSentiment.vaderSentiment import SentimentIntensityAnalyzer\n",
    "import plotly.graph_objects as go\n",
    "\n",
    "# Define emotions and their associated colors\n",
    "emotions = ['Angry', 'Disgusted', 'Sad', 'Happy', 'Surprised', 'Fearful']\n",
    "colors = ['#e74c3c', '#9b59b6', '#3498db', '#2ecc71', '#f1c40f', '#e67e22']\n",
    "sizes = [0.2, 0.3, 0.4, 0.5, 0.6, 0.7]\n",
    "\n",
    "# Define function to draw emotional wheel\n",
    "def draw_emotional_wheel(center_x, center_y, sizes, colors, angles, coordinates, emotions, percentages):\n",
    "    st.title('Emotional Wheel')\n",
    "    st.write('The Emotional Wheel shows the dominant emotions based on the input activities.')\n",
    "    with st.container():\n",
    "        chart_data = pd.DataFrame({\n",
    "            'sizes': sizes,\n",
    "            'colors': colors,\n",
    "            'angles': angles,\n",
    "            'coordinates': coordinates,\n",
    "            'emotions': emotions,\n",
    "            'percentages': percentages\n",
    "        })\n",
    "        fig = go.Figure(\n",
    "            go.Pie(\n",
    "                values=chart_data['sizes'],\n",
    "                labels=chart_data['emotions'],\n",
    "                hole=0.7,\n",
    "                sort=False,\n",
    "                marker={'line': {'color': 'white', 'width': 2}},\n",
    "                opacity=0.8,\n",
    "                textinfo='none',\n",
    "                direction='clockwise',\n",
    "                title='Emotional Wheel',\n",
    "                hovertemplate='<b>%{label}</b><br><br>Count: %{value}<br>Percentage: %{percent}<extra></extra>'\n",
    "            )\n",
    "        )\n",
    "        fig.update_traces(\n",
    "            hoverinfo='label+value+percent',\n",
    "            textinfo='none',\n",
    "            marker=dict(line=dict(color='#000000', width=2))\n",
    "        )\n",
    "        for i, coord in enumerate(coordinates):\n",
    "            fig.add_annotation(\n",
    "                x=coord[0],\n",
    "                y=coord[1],\n",
    "                text=f\"{emotions[i]}<br>{percentages[i]}%\",\n",
    "                showarrow=False,\n",
    "                font=dict(size=24),\n",
    "                xanchor='center',\n",
    "                yanchor='middle'\n",
    "            )\n",
    "        fig.update_layout(\n",
    "            title='Emotional Wheel',\n",
    "            width=800,\n",
    "            height=800\n",
    "        )\n",
    "        st.plotly_chart(fig)\n",
    "\n",
    "def get_emotion(sentiment_scores):\n",
    "    if sentiment_scores['compound'] >= 0.05:\n",
    "        if sentiment_scores['pos'] >= sentiment_scores['neg']:\n",
    "            return \"Happy\"\n",
    "        else:\n",
    "            return \"Surprised\"\n",
    "    elif sentiment_scores['compound'] <= -0.05:\n",
    "        if sentiment_scores['pos'] >= sentiment_scores['neg']:\n",
    "            return \"Surprised\"\n",
    "        else:\n",
    "            return \"Sad\"\n",
    "    else:\n",
    "        if sentiment_scores['pos'] > sentiment_scores['neg']:\n",
    "            return \"Happy\"\n",
    "        elif sentiment_scores['neg'] > sentiment_scores['pos']:\n",
    "            return \"Sad\"\n",
    "        elif sentiment_scores['compound'] > 0 and sentiment_scores['neu'] > sentiment_scores['compound']:\n",
    "            return \"Surprised\"\n",
    "        elif sentiment_scores['compound'] < 0 and sentiment_scores['neu'] > -sentiment_scores['compound']:\n",
    "            return \"Disgusted\"\n",
    "        else:\n",
    "            return \"Angry\"\n",
    "\n",
    "# Get input from user\n",
    "center_x = 400\n",
    "center_y = 400\n",
    "\n",
    "analyzer = SentimentIntensityAnalyzer()\n",
    "input_activities = st.text_input('Enter activities separated by comma:')\n",
    "if input_activities:\n",
    "    activities = input_activities.split(',')\n",
    "    emotions_count = {emotion: 0 for emotion in emotions}\n",
    "    for activity in activities:\n",
    "        sentiment_score = analyzer.polarity_scores(activity)\n",
    "        dominant_emotion=get_emotion(sentiment_score)\n",
    "        emotions_count[dominant_emotion] += 1\n",
    "    total = sum(emotions_count.values())\n",
    "    percentages = [f\"{count / total * 100:.2f}%\" for count in emotions_count.values()]\n",
    "    angles = [count / total * 360 for count in emotions_count.values()]\n",
    "    coordinates = [(center_x + size * pd.np.sin(pd.np.radians(sum(angles[:i+1]))), center_y + size * pd.np.cos(pd.np.radians(sum(angles[:i+1])))) for i, size in enumerate(sizes)]\n",
    "    draw_emotional_wheel(center_x=400, center_y=400, sizes=sizes, colors=colors, angles=angles, coordinates=coordinates, emotions=emotions, percentages=percentages)\n"
   ]
  },
  {
   "cell_type": "code",
   "execution_count": 6,
   "id": "5eee484d",
   "metadata": {},
   "outputs": [
    {
     "name": "stdout",
     "output_type": "stream",
     "text": [
      "^C\n",
      "Note: you may need to restart the kernel to use updated packages.\n"
     ]
    }
   ],
   "source": [
    "pip install plotly"
   ]
  },
  {
   "cell_type": "code",
   "execution_count": null,
   "id": "00cd16a9",
   "metadata": {},
   "outputs": [],
   "source": []
  }
 ],
 "metadata": {
  "kernelspec": {
   "display_name": "Python 3 (ipykernel)",
   "language": "python",
   "name": "python3"
  },
  "language_info": {
   "codemirror_mode": {
    "name": "ipython",
    "version": 3
   },
   "file_extension": ".py",
   "mimetype": "text/x-python",
   "name": "python",
   "nbconvert_exporter": "python",
   "pygments_lexer": "ipython3",
   "version": "3.11.2"
  }
 },
 "nbformat": 4,
 "nbformat_minor": 5
}
